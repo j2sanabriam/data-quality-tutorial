{
 "cells": [
  {
   "cell_type": "markdown",
   "metadata": {},
   "source": [
    "<a href=\"https://colab.research.google.com/github/datascience-uniandes/data-quality-tutorial/blob/master/data-quality-tutorial.ipynb\" target=\"_parent\"><img src=\"https://colab.research.google.com/assets/colab-badge.svg\" alt=\"Open In Colab\"/></a>"
   ]
  },
  {
   "cell_type": "markdown",
   "metadata": {},
   "source": [
    "# Data Quality tutorial\n",
    "\n",
    "Jose Julian Sanabria Mejia <br> Cod: 202224837 <br> jj.sanabria@uniandes.edu.co\n",
    "\n",
    "MINE-4101: Applied Data Science  \n",
    "Univerisdad de los Andes  \n",
    "  \n",
    "Dataset: Homicides Colombia  \n",
    "Source: [datos.gov.co](datos.gov.co)\n",
    "  \n",
    "Last update: September, 2022"
   ]
  },
  {
   "cell_type": "code",
   "execution_count": 1,
   "metadata": {},
   "outputs": [
    {
     "name": "stdout",
     "output_type": "stream",
     "text": [
      "Collecting pylev\n",
      "  Downloading pylev-1.4.0-py2.py3-none-any.whl (6.1 kB)\n",
      "Installing collected packages: pylev\n",
      "Successfully installed pylev-1.4.0\n"
     ]
    }
   ],
   "source": [
    "!pip install pylev"
   ]
  },
  {
   "cell_type": "code",
   "execution_count": 2,
   "metadata": {},
   "outputs": [],
   "source": [
    "# Importing required libraries\n",
    "\n",
    "import re\n",
    "from random import randint\n",
    "from datetime import datetime\n",
    "\n",
    "import numpy as np\n",
    "import pandas as pd\n",
    "\n",
    "import pylev"
   ]
  },
  {
   "cell_type": "code",
   "execution_count": 3,
   "metadata": {},
   "outputs": [],
   "source": [
    "# Parameter for showing all columns when printing a dataframe\n",
    "pd.set_option('display.max_columns', None)"
   ]
  },
  {
   "cell_type": "code",
   "execution_count": 4,
   "metadata": {},
   "outputs": [],
   "source": [
    "# Loading data\n",
    "homicides_df = pd.read_csv(\"./data/homicides.csv\")"
   ]
  },
  {
   "cell_type": "code",
   "execution_count": 5,
   "metadata": {},
   "outputs": [
    {
     "data": {
      "text/plain": [
       "(12400, 22)"
      ]
     },
     "execution_count": 5,
     "metadata": {},
     "output_type": "execute_result"
    }
   ],
   "source": [
    "# Printing the dataset dimensions\n",
    "homicides_df.shape"
   ]
  },
  {
   "cell_type": "code",
   "execution_count": 6,
   "metadata": {},
   "outputs": [
    {
     "data": {
      "text/plain": [
       "FECHA                 object\n",
       "DEPARTAMENTO          object\n",
       "MUNICIPIO             object\n",
       "DIA                   object\n",
       "HORA                  object\n",
       "BARRIO                object\n",
       "ZONA                  object\n",
       "CLASE DE SITIO        object\n",
       "ARMA O MEDIO          object\n",
       "MOVIL VICTIMA         object\n",
       "MOVIL AGRESOR         object\n",
       "EDAD                 float64\n",
       "GENERO                object\n",
       "ESTADO CIVIL          object\n",
       "CLASE EMPLEADO        object\n",
       "PROFESION             object\n",
       "ESCOLARIDAD           object\n",
       "PAIS NACE             object\n",
       "CODIGO DANE          float64\n",
       "AÑO DE NACIMIENTO    float64\n",
       "CÉDULA                object\n",
       "CORREO                object\n",
       "dtype: object"
      ]
     },
     "execution_count": 6,
     "metadata": {},
     "output_type": "execute_result"
    }
   ],
   "source": [
    "# Printing column data types\n",
    "homicides_df.dtypes"
   ]
  },
  {
   "cell_type": "code",
   "execution_count": 7,
   "metadata": {},
   "outputs": [
    {
     "data": {
      "text/html": [
       "<div>\n",
       "<style scoped>\n",
       "    .dataframe tbody tr th:only-of-type {\n",
       "        vertical-align: middle;\n",
       "    }\n",
       "\n",
       "    .dataframe tbody tr th {\n",
       "        vertical-align: top;\n",
       "    }\n",
       "\n",
       "    .dataframe thead th {\n",
       "        text-align: right;\n",
       "    }\n",
       "</style>\n",
       "<table border=\"1\" class=\"dataframe\">\n",
       "  <thead>\n",
       "    <tr style=\"text-align: right;\">\n",
       "      <th></th>\n",
       "      <th>FECHA</th>\n",
       "      <th>DEPARTAMENTO</th>\n",
       "      <th>MUNICIPIO</th>\n",
       "      <th>DIA</th>\n",
       "      <th>HORA</th>\n",
       "      <th>BARRIO</th>\n",
       "      <th>ZONA</th>\n",
       "      <th>CLASE DE SITIO</th>\n",
       "      <th>ARMA O MEDIO</th>\n",
       "      <th>MOVIL VICTIMA</th>\n",
       "      <th>MOVIL AGRESOR</th>\n",
       "      <th>EDAD</th>\n",
       "      <th>GENERO</th>\n",
       "      <th>ESTADO CIVIL</th>\n",
       "      <th>CLASE EMPLEADO</th>\n",
       "      <th>PROFESION</th>\n",
       "      <th>ESCOLARIDAD</th>\n",
       "      <th>PAIS NACE</th>\n",
       "      <th>CODIGO DANE</th>\n",
       "      <th>AÑO DE NACIMIENTO</th>\n",
       "      <th>CÉDULA</th>\n",
       "      <th>CORREO</th>\n",
       "    </tr>\n",
       "  </thead>\n",
       "  <tbody>\n",
       "    <tr>\n",
       "      <th>0</th>\n",
       "      <td>01/01/2021 12:00:00 AM</td>\n",
       "      <td>ANTIOQUIA</td>\n",
       "      <td>AMAGÁ</td>\n",
       "      <td>Jueves</td>\n",
       "      <td>6:00</td>\n",
       "      <td>EL VOLCAN</td>\n",
       "      <td>RURAL</td>\n",
       "      <td>TIENDA</td>\n",
       "      <td>ARMA BLANCA</td>\n",
       "      <td>A PIE</td>\n",
       "      <td>A PIE</td>\n",
       "      <td>44.0</td>\n",
       "      <td>MASCULINO</td>\n",
       "      <td>CASADO</td>\n",
       "      <td>INDEPENDIENTE</td>\n",
       "      <td>NO REPORTADO</td>\n",
       "      <td>PRIMARIA</td>\n",
       "      <td>COLOMBIA</td>\n",
       "      <td>5030000.0</td>\n",
       "      <td>1971.0</td>\n",
       "      <td>42-908</td>\n",
       "      <td>agbnqg2122@unidatos.edu.co</td>\n",
       "    </tr>\n",
       "    <tr>\n",
       "      <th>1</th>\n",
       "      <td>01/01/2021 12:00:00 AM</td>\n",
       "      <td>ANTIOQUIA</td>\n",
       "      <td>BARBOSA</td>\n",
       "      <td>Jueves</td>\n",
       "      <td>9:00</td>\n",
       "      <td>VDA. MATASANOS</td>\n",
       "      <td>RURAL</td>\n",
       "      <td>VIAS PUBLICAS</td>\n",
       "      <td>ARMA BLANCA</td>\n",
       "      <td>A PIE</td>\n",
       "      <td>A PIE</td>\n",
       "      <td>30.0</td>\n",
       "      <td>MASCULINO</td>\n",
       "      <td>SOLTERO</td>\n",
       "      <td>DESEMPLEADO</td>\n",
       "      <td>NO REPORTADO</td>\n",
       "      <td>SECUNDARIA</td>\n",
       "      <td>NO REPORTADO</td>\n",
       "      <td>5079000.0</td>\n",
       "      <td>1985.0</td>\n",
       "      <td>15-183</td>\n",
       "      <td>rbkeui3584@gmail.com</td>\n",
       "    </tr>\n",
       "    <tr>\n",
       "      <th>2</th>\n",
       "      <td>01/01/2021 12:00:00 AM</td>\n",
       "      <td>ANTIOQUIA</td>\n",
       "      <td>EL BAGRE</td>\n",
       "      <td>Jueves</td>\n",
       "      <td>19:00</td>\n",
       "      <td>PUERTO CLAVER</td>\n",
       "      <td>RURAL</td>\n",
       "      <td>FINCAS Y SIMILARES</td>\n",
       "      <td>ARMA BLANCA</td>\n",
       "      <td>A PIE</td>\n",
       "      <td>A PIE</td>\n",
       "      <td>33.0</td>\n",
       "      <td>MASCULINO</td>\n",
       "      <td>UNION LIBRE</td>\n",
       "      <td>AGRICULTOR</td>\n",
       "      <td>NO REPORTADO</td>\n",
       "      <td>PRIMARIA</td>\n",
       "      <td>COLOMBIA</td>\n",
       "      <td>5250000.0</td>\n",
       "      <td>1982.0</td>\n",
       "      <td>84-786</td>\n",
       "      <td>aorkhf9155@unidatos.edu.co</td>\n",
       "    </tr>\n",
       "    <tr>\n",
       "      <th>3</th>\n",
       "      <td>01/01/2021 12:00:00 AM</td>\n",
       "      <td>ANTIOQUIA</td>\n",
       "      <td>JARDÍN</td>\n",
       "      <td>Jueves</td>\n",
       "      <td>11:20</td>\n",
       "      <td>CRISTIANIA</td>\n",
       "      <td>RURAL</td>\n",
       "      <td>FINCAS Y SIMILARES</td>\n",
       "      <td>ARMA BLANCA</td>\n",
       "      <td>A PIE</td>\n",
       "      <td>A PIE</td>\n",
       "      <td>40.0</td>\n",
       "      <td>MASCULINO</td>\n",
       "      <td>CASADO</td>\n",
       "      <td>AGRICULTOR</td>\n",
       "      <td>NO REPORTADO</td>\n",
       "      <td>PRIMARIA</td>\n",
       "      <td>COLOMBIA</td>\n",
       "      <td>5364000.0</td>\n",
       "      <td>1975.0</td>\n",
       "      <td>31-289</td>\n",
       "      <td>dhtemr6623@unidatos.edu.co</td>\n",
       "    </tr>\n",
       "    <tr>\n",
       "      <th>4</th>\n",
       "      <td>01/01/2021 12:00:00 AM</td>\n",
       "      <td>ANTIOQUIA</td>\n",
       "      <td>MEDELLÍN (CT)</td>\n",
       "      <td>Juees</td>\n",
       "      <td>15:00</td>\n",
       "      <td>PICACHITO CNO REPORTADO6</td>\n",
       "      <td>URBANA</td>\n",
       "      <td>FRENTE A RESIDENCIAS - VIA PUBLICA</td>\n",
       "      <td>CONTUNDENTES</td>\n",
       "      <td>A PIE</td>\n",
       "      <td>A PIE</td>\n",
       "      <td>66.0</td>\n",
       "      <td>MASCULINO</td>\n",
       "      <td>UNION LIBRE</td>\n",
       "      <td>DESEMPLEADO</td>\n",
       "      <td>NO REPORTADO</td>\n",
       "      <td>PRIMARIA</td>\n",
       "      <td>COLOMBIA</td>\n",
       "      <td>5001000.0</td>\n",
       "      <td>1949.0</td>\n",
       "      <td>66-363</td>\n",
       "      <td>artatj9268@unidatos.edu.co</td>\n",
       "    </tr>\n",
       "  </tbody>\n",
       "</table>\n",
       "</div>"
      ],
      "text/plain": [
       "                    FECHA DEPARTAMENTO      MUNICIPIO     DIA   HORA  \\\n",
       "0  01/01/2021 12:00:00 AM    ANTIOQUIA          AMAGÁ  Jueves   6:00   \n",
       "1  01/01/2021 12:00:00 AM    ANTIOQUIA        BARBOSA  Jueves   9:00   \n",
       "2  01/01/2021 12:00:00 AM    ANTIOQUIA       EL BAGRE  Jueves  19:00   \n",
       "3  01/01/2021 12:00:00 AM    ANTIOQUIA         JARDÍN  Jueves  11:20   \n",
       "4  01/01/2021 12:00:00 AM    ANTIOQUIA  MEDELLÍN (CT)   Juees  15:00   \n",
       "\n",
       "                     BARRIO    ZONA                      CLASE DE SITIO  \\\n",
       "0                 EL VOLCAN   RURAL                              TIENDA   \n",
       "1            VDA. MATASANOS   RURAL                       VIAS PUBLICAS   \n",
       "2             PUERTO CLAVER   RURAL                  FINCAS Y SIMILARES   \n",
       "3                CRISTIANIA   RURAL                  FINCAS Y SIMILARES   \n",
       "4  PICACHITO CNO REPORTADO6  URBANA  FRENTE A RESIDENCIAS - VIA PUBLICA   \n",
       "\n",
       "   ARMA O MEDIO MOVIL VICTIMA MOVIL AGRESOR  EDAD     GENERO ESTADO CIVIL  \\\n",
       "0   ARMA BLANCA         A PIE         A PIE  44.0  MASCULINO       CASADO   \n",
       "1   ARMA BLANCA         A PIE         A PIE  30.0  MASCULINO      SOLTERO   \n",
       "2   ARMA BLANCA         A PIE         A PIE  33.0  MASCULINO  UNION LIBRE   \n",
       "3   ARMA BLANCA         A PIE         A PIE  40.0  MASCULINO       CASADO   \n",
       "4  CONTUNDENTES         A PIE         A PIE  66.0  MASCULINO  UNION LIBRE   \n",
       "\n",
       "  CLASE EMPLEADO     PROFESION ESCOLARIDAD     PAIS NACE  CODIGO DANE  \\\n",
       "0  INDEPENDIENTE  NO REPORTADO    PRIMARIA      COLOMBIA    5030000.0   \n",
       "1    DESEMPLEADO  NO REPORTADO  SECUNDARIA  NO REPORTADO    5079000.0   \n",
       "2     AGRICULTOR  NO REPORTADO    PRIMARIA      COLOMBIA    5250000.0   \n",
       "3     AGRICULTOR  NO REPORTADO    PRIMARIA      COLOMBIA    5364000.0   \n",
       "4    DESEMPLEADO  NO REPORTADO    PRIMARIA      COLOMBIA    5001000.0   \n",
       "\n",
       "   AÑO DE NACIMIENTO  CÉDULA                      CORREO  \n",
       "0             1971.0  42-908  agbnqg2122@unidatos.edu.co  \n",
       "1             1985.0  15-183        rbkeui3584@gmail.com  \n",
       "2             1982.0  84-786  aorkhf9155@unidatos.edu.co  \n",
       "3             1975.0  31-289  dhtemr6623@unidatos.edu.co  \n",
       "4             1949.0  66-363  artatj9268@unidatos.edu.co  "
      ]
     },
     "execution_count": 7,
     "metadata": {},
     "output_type": "execute_result"
    }
   ],
   "source": [
    "homicides_df.head()"
   ]
  },
  {
   "cell_type": "code",
   "execution_count": 10,
   "metadata": {},
   "outputs": [],
   "source": [
    "# Creating a lambda expression for datetime parsing\n",
    "dateparse = lambda x: datetime.strptime(x, \"%m/%d/%Y %H:%M:%S %p\")"
   ]
  },
  {
   "cell_type": "code",
   "execution_count": 11,
   "metadata": {},
   "outputs": [
    {
     "ename": "ValueError",
     "evalue": "time data 'TOTAL' does not match format '%m/%d/%Y %H:%M:%S %p'",
     "output_type": "error",
     "traceback": [
      "\u001b[1;31m---------------------------------------------------------------------------\u001b[0m",
      "\u001b[1;31mValueError\u001b[0m                                Traceback (most recent call last)",
      "Input \u001b[1;32mIn [11]\u001b[0m, in \u001b[0;36m<cell line: 2>\u001b[1;34m()\u001b[0m\n\u001b[0;32m      1\u001b[0m \u001b[38;5;66;03m# Applying the validation to all values in column\u001b[39;00m\n\u001b[1;32m----> 2\u001b[0m \u001b[43mhomicides_df\u001b[49m\u001b[43m[\u001b[49m\u001b[38;5;124;43m\"\u001b[39;49m\u001b[38;5;124;43mFECHA\u001b[39;49m\u001b[38;5;124;43m\"\u001b[39;49m\u001b[43m]\u001b[49m\u001b[38;5;241;43m.\u001b[39;49m\u001b[43mapply\u001b[49m\u001b[43m(\u001b[49m\u001b[43mdateparse\u001b[49m\u001b[43m)\u001b[49m\n",
      "File \u001b[1;32m~\\anaconda3\\envs\\cda_talleres\\lib\\site-packages\\pandas\\core\\series.py:4433\u001b[0m, in \u001b[0;36mSeries.apply\u001b[1;34m(self, func, convert_dtype, args, **kwargs)\u001b[0m\n\u001b[0;32m   4323\u001b[0m \u001b[38;5;28;01mdef\u001b[39;00m \u001b[38;5;21mapply\u001b[39m(\n\u001b[0;32m   4324\u001b[0m     \u001b[38;5;28mself\u001b[39m,\n\u001b[0;32m   4325\u001b[0m     func: AggFuncType,\n\u001b[1;32m   (...)\u001b[0m\n\u001b[0;32m   4328\u001b[0m     \u001b[38;5;241m*\u001b[39m\u001b[38;5;241m*\u001b[39mkwargs,\n\u001b[0;32m   4329\u001b[0m ) \u001b[38;5;241m-\u001b[39m\u001b[38;5;241m>\u001b[39m DataFrame \u001b[38;5;241m|\u001b[39m Series:\n\u001b[0;32m   4330\u001b[0m     \u001b[38;5;124;03m\"\"\"\u001b[39;00m\n\u001b[0;32m   4331\u001b[0m \u001b[38;5;124;03m    Invoke function on values of Series.\u001b[39;00m\n\u001b[0;32m   4332\u001b[0m \n\u001b[1;32m   (...)\u001b[0m\n\u001b[0;32m   4431\u001b[0m \u001b[38;5;124;03m    dtype: float64\u001b[39;00m\n\u001b[0;32m   4432\u001b[0m \u001b[38;5;124;03m    \"\"\"\u001b[39;00m\n\u001b[1;32m-> 4433\u001b[0m     \u001b[38;5;28;01mreturn\u001b[39;00m \u001b[43mSeriesApply\u001b[49m\u001b[43m(\u001b[49m\u001b[38;5;28;43mself\u001b[39;49m\u001b[43m,\u001b[49m\u001b[43m \u001b[49m\u001b[43mfunc\u001b[49m\u001b[43m,\u001b[49m\u001b[43m \u001b[49m\u001b[43mconvert_dtype\u001b[49m\u001b[43m,\u001b[49m\u001b[43m \u001b[49m\u001b[43margs\u001b[49m\u001b[43m,\u001b[49m\u001b[43m \u001b[49m\u001b[43mkwargs\u001b[49m\u001b[43m)\u001b[49m\u001b[38;5;241;43m.\u001b[39;49m\u001b[43mapply\u001b[49m\u001b[43m(\u001b[49m\u001b[43m)\u001b[49m\n",
      "File \u001b[1;32m~\\anaconda3\\envs\\cda_talleres\\lib\\site-packages\\pandas\\core\\apply.py:1088\u001b[0m, in \u001b[0;36mSeriesApply.apply\u001b[1;34m(self)\u001b[0m\n\u001b[0;32m   1084\u001b[0m \u001b[38;5;28;01mif\u001b[39;00m \u001b[38;5;28misinstance\u001b[39m(\u001b[38;5;28mself\u001b[39m\u001b[38;5;241m.\u001b[39mf, \u001b[38;5;28mstr\u001b[39m):\n\u001b[0;32m   1085\u001b[0m     \u001b[38;5;66;03m# if we are a string, try to dispatch\u001b[39;00m\n\u001b[0;32m   1086\u001b[0m     \u001b[38;5;28;01mreturn\u001b[39;00m \u001b[38;5;28mself\u001b[39m\u001b[38;5;241m.\u001b[39mapply_str()\n\u001b[1;32m-> 1088\u001b[0m \u001b[38;5;28;01mreturn\u001b[39;00m \u001b[38;5;28;43mself\u001b[39;49m\u001b[38;5;241;43m.\u001b[39;49m\u001b[43mapply_standard\u001b[49m\u001b[43m(\u001b[49m\u001b[43m)\u001b[49m\n",
      "File \u001b[1;32m~\\anaconda3\\envs\\cda_talleres\\lib\\site-packages\\pandas\\core\\apply.py:1143\u001b[0m, in \u001b[0;36mSeriesApply.apply_standard\u001b[1;34m(self)\u001b[0m\n\u001b[0;32m   1137\u001b[0m         values \u001b[38;5;241m=\u001b[39m obj\u001b[38;5;241m.\u001b[39mastype(\u001b[38;5;28mobject\u001b[39m)\u001b[38;5;241m.\u001b[39m_values\n\u001b[0;32m   1138\u001b[0m         \u001b[38;5;66;03m# error: Argument 2 to \"map_infer\" has incompatible type\u001b[39;00m\n\u001b[0;32m   1139\u001b[0m         \u001b[38;5;66;03m# \"Union[Callable[..., Any], str, List[Union[Callable[..., Any], str]],\u001b[39;00m\n\u001b[0;32m   1140\u001b[0m         \u001b[38;5;66;03m# Dict[Hashable, Union[Union[Callable[..., Any], str],\u001b[39;00m\n\u001b[0;32m   1141\u001b[0m         \u001b[38;5;66;03m# List[Union[Callable[..., Any], str]]]]]\"; expected\u001b[39;00m\n\u001b[0;32m   1142\u001b[0m         \u001b[38;5;66;03m# \"Callable[[Any], Any]\"\u001b[39;00m\n\u001b[1;32m-> 1143\u001b[0m         mapped \u001b[38;5;241m=\u001b[39m \u001b[43mlib\u001b[49m\u001b[38;5;241;43m.\u001b[39;49m\u001b[43mmap_infer\u001b[49m\u001b[43m(\u001b[49m\n\u001b[0;32m   1144\u001b[0m \u001b[43m            \u001b[49m\u001b[43mvalues\u001b[49m\u001b[43m,\u001b[49m\n\u001b[0;32m   1145\u001b[0m \u001b[43m            \u001b[49m\u001b[43mf\u001b[49m\u001b[43m,\u001b[49m\u001b[43m  \u001b[49m\u001b[38;5;66;43;03m# type: ignore[arg-type]\u001b[39;49;00m\n\u001b[0;32m   1146\u001b[0m \u001b[43m            \u001b[49m\u001b[43mconvert\u001b[49m\u001b[38;5;241;43m=\u001b[39;49m\u001b[38;5;28;43mself\u001b[39;49m\u001b[38;5;241;43m.\u001b[39;49m\u001b[43mconvert_dtype\u001b[49m\u001b[43m,\u001b[49m\n\u001b[0;32m   1147\u001b[0m \u001b[43m        \u001b[49m\u001b[43m)\u001b[49m\n\u001b[0;32m   1149\u001b[0m \u001b[38;5;28;01mif\u001b[39;00m \u001b[38;5;28mlen\u001b[39m(mapped) \u001b[38;5;129;01mand\u001b[39;00m \u001b[38;5;28misinstance\u001b[39m(mapped[\u001b[38;5;241m0\u001b[39m], ABCSeries):\n\u001b[0;32m   1150\u001b[0m     \u001b[38;5;66;03m# GH#43986 Need to do list(mapped) in order to get treated as nested\u001b[39;00m\n\u001b[0;32m   1151\u001b[0m     \u001b[38;5;66;03m#  See also GH#25959 regarding EA support\u001b[39;00m\n\u001b[0;32m   1152\u001b[0m     \u001b[38;5;28;01mreturn\u001b[39;00m obj\u001b[38;5;241m.\u001b[39m_constructor_expanddim(\u001b[38;5;28mlist\u001b[39m(mapped), index\u001b[38;5;241m=\u001b[39mobj\u001b[38;5;241m.\u001b[39mindex)\n",
      "File \u001b[1;32m~\\anaconda3\\envs\\cda_talleres\\lib\\site-packages\\pandas\\_libs\\lib.pyx:2870\u001b[0m, in \u001b[0;36mpandas._libs.lib.map_infer\u001b[1;34m()\u001b[0m\n",
      "Input \u001b[1;32mIn [10]\u001b[0m, in \u001b[0;36m<lambda>\u001b[1;34m(x)\u001b[0m\n\u001b[0;32m      1\u001b[0m \u001b[38;5;66;03m# Creating a lambda expression for datetime parsing\u001b[39;00m\n\u001b[1;32m----> 2\u001b[0m dateparse \u001b[38;5;241m=\u001b[39m \u001b[38;5;28;01mlambda\u001b[39;00m x: \u001b[43mdatetime\u001b[49m\u001b[38;5;241;43m.\u001b[39;49m\u001b[43mstrptime\u001b[49m\u001b[43m(\u001b[49m\u001b[43mx\u001b[49m\u001b[43m,\u001b[49m\u001b[43m \u001b[49m\u001b[38;5;124;43m\"\u001b[39;49m\u001b[38;5;124;43m%\u001b[39;49m\u001b[38;5;124;43mm/\u001b[39;49m\u001b[38;5;132;43;01m%d\u001b[39;49;00m\u001b[38;5;124;43m/\u001b[39;49m\u001b[38;5;124;43m%\u001b[39;49m\u001b[38;5;124;43mY \u001b[39;49m\u001b[38;5;124;43m%\u001b[39;49m\u001b[38;5;124;43mH:\u001b[39;49m\u001b[38;5;124;43m%\u001b[39;49m\u001b[38;5;124;43mM:\u001b[39;49m\u001b[38;5;124;43m%\u001b[39;49m\u001b[38;5;124;43mS \u001b[39;49m\u001b[38;5;124;43m%\u001b[39;49m\u001b[38;5;124;43mp\u001b[39;49m\u001b[38;5;124;43m\"\u001b[39;49m\u001b[43m)\u001b[49m\n",
      "File \u001b[1;32m~\\anaconda3\\envs\\cda_talleres\\lib\\_strptime.py:568\u001b[0m, in \u001b[0;36m_strptime_datetime\u001b[1;34m(cls, data_string, format)\u001b[0m\n\u001b[0;32m    565\u001b[0m \u001b[38;5;28;01mdef\u001b[39;00m \u001b[38;5;21m_strptime_datetime\u001b[39m(\u001b[38;5;28mcls\u001b[39m, data_string, \u001b[38;5;28mformat\u001b[39m\u001b[38;5;241m=\u001b[39m\u001b[38;5;124m\"\u001b[39m\u001b[38;5;132;01m%a\u001b[39;00m\u001b[38;5;124m \u001b[39m\u001b[38;5;124m%\u001b[39m\u001b[38;5;124mb \u001b[39m\u001b[38;5;132;01m%d\u001b[39;00m\u001b[38;5;124m \u001b[39m\u001b[38;5;124m%\u001b[39m\u001b[38;5;124mH:\u001b[39m\u001b[38;5;124m%\u001b[39m\u001b[38;5;124mM:\u001b[39m\u001b[38;5;124m%\u001b[39m\u001b[38;5;124mS \u001b[39m\u001b[38;5;124m%\u001b[39m\u001b[38;5;124mY\u001b[39m\u001b[38;5;124m\"\u001b[39m):\n\u001b[0;32m    566\u001b[0m     \u001b[38;5;124;03m\"\"\"Return a class cls instance based on the input string and the\u001b[39;00m\n\u001b[0;32m    567\u001b[0m \u001b[38;5;124;03m    format string.\"\"\"\u001b[39;00m\n\u001b[1;32m--> 568\u001b[0m     tt, fraction, gmtoff_fraction \u001b[38;5;241m=\u001b[39m \u001b[43m_strptime\u001b[49m\u001b[43m(\u001b[49m\u001b[43mdata_string\u001b[49m\u001b[43m,\u001b[49m\u001b[43m \u001b[49m\u001b[38;5;28;43mformat\u001b[39;49m\u001b[43m)\u001b[49m\n\u001b[0;32m    569\u001b[0m     tzname, gmtoff \u001b[38;5;241m=\u001b[39m tt[\u001b[38;5;241m-\u001b[39m\u001b[38;5;241m2\u001b[39m:]\n\u001b[0;32m    570\u001b[0m     args \u001b[38;5;241m=\u001b[39m tt[:\u001b[38;5;241m6\u001b[39m] \u001b[38;5;241m+\u001b[39m (fraction,)\n",
      "File \u001b[1;32m~\\anaconda3\\envs\\cda_talleres\\lib\\_strptime.py:349\u001b[0m, in \u001b[0;36m_strptime\u001b[1;34m(data_string, format)\u001b[0m\n\u001b[0;32m    347\u001b[0m found \u001b[38;5;241m=\u001b[39m format_regex\u001b[38;5;241m.\u001b[39mmatch(data_string)\n\u001b[0;32m    348\u001b[0m \u001b[38;5;28;01mif\u001b[39;00m \u001b[38;5;129;01mnot\u001b[39;00m found:\n\u001b[1;32m--> 349\u001b[0m     \u001b[38;5;28;01mraise\u001b[39;00m \u001b[38;5;167;01mValueError\u001b[39;00m(\u001b[38;5;124m\"\u001b[39m\u001b[38;5;124mtime data \u001b[39m\u001b[38;5;132;01m%r\u001b[39;00m\u001b[38;5;124m does not match format \u001b[39m\u001b[38;5;132;01m%r\u001b[39;00m\u001b[38;5;124m\"\u001b[39m \u001b[38;5;241m%\u001b[39m\n\u001b[0;32m    350\u001b[0m                      (data_string, \u001b[38;5;28mformat\u001b[39m))\n\u001b[0;32m    351\u001b[0m \u001b[38;5;28;01mif\u001b[39;00m \u001b[38;5;28mlen\u001b[39m(data_string) \u001b[38;5;241m!=\u001b[39m found\u001b[38;5;241m.\u001b[39mend():\n\u001b[0;32m    352\u001b[0m     \u001b[38;5;28;01mraise\u001b[39;00m \u001b[38;5;167;01mValueError\u001b[39;00m(\u001b[38;5;124m\"\u001b[39m\u001b[38;5;124munconverted data remains: \u001b[39m\u001b[38;5;132;01m%s\u001b[39;00m\u001b[38;5;124m\"\u001b[39m \u001b[38;5;241m%\u001b[39m\n\u001b[0;32m    353\u001b[0m                       data_string[found\u001b[38;5;241m.\u001b[39mend():])\n",
      "\u001b[1;31mValueError\u001b[0m: time data 'TOTAL' does not match format '%m/%d/%Y %H:%M:%S %p'"
     ]
    }
   ],
   "source": [
    "# Applying the validation to all values in column\n",
    "homicides_df[\"FECHA\"].apply(dateparse)\n",
    "\n",
    "# IT IS EXPECTED TO HAVE AN ERROR INTENTIONALLY"
   ]
  },
  {
   "cell_type": "code",
   "execution_count": 12,
   "metadata": {},
   "outputs": [],
   "source": [
    "# Creating a function for validating which value is causing the previous error\n",
    "def error_in_format(x):\n",
    "    try:\n",
    "        datetime.strptime(x, \"%m/%d/%Y %H:%M:%S %p\")\n",
    "        return False\n",
    "    except:\n",
    "        return True"
   ]
  },
  {
   "cell_type": "code",
   "execution_count": 13,
   "metadata": {},
   "outputs": [
    {
     "data": {
      "text/html": [
       "<div>\n",
       "<style scoped>\n",
       "    .dataframe tbody tr th:only-of-type {\n",
       "        vertical-align: middle;\n",
       "    }\n",
       "\n",
       "    .dataframe tbody tr th {\n",
       "        vertical-align: top;\n",
       "    }\n",
       "\n",
       "    .dataframe thead th {\n",
       "        text-align: right;\n",
       "    }\n",
       "</style>\n",
       "<table border=\"1\" class=\"dataframe\">\n",
       "  <thead>\n",
       "    <tr style=\"text-align: right;\">\n",
       "      <th></th>\n",
       "      <th>FECHA</th>\n",
       "      <th>DEPARTAMENTO</th>\n",
       "      <th>MUNICIPIO</th>\n",
       "      <th>DIA</th>\n",
       "      <th>HORA</th>\n",
       "      <th>BARRIO</th>\n",
       "      <th>ZONA</th>\n",
       "      <th>CLASE DE SITIO</th>\n",
       "      <th>ARMA O MEDIO</th>\n",
       "      <th>MOVIL VICTIMA</th>\n",
       "      <th>MOVIL AGRESOR</th>\n",
       "      <th>EDAD</th>\n",
       "      <th>GENERO</th>\n",
       "      <th>ESTADO CIVIL</th>\n",
       "      <th>CLASE EMPLEADO</th>\n",
       "      <th>PROFESION</th>\n",
       "      <th>ESCOLARIDAD</th>\n",
       "      <th>PAIS NACE</th>\n",
       "      <th>CODIGO DANE</th>\n",
       "      <th>AÑO DE NACIMIENTO</th>\n",
       "      <th>CÉDULA</th>\n",
       "      <th>CORREO</th>\n",
       "    </tr>\n",
       "  </thead>\n",
       "  <tbody>\n",
       "    <tr>\n",
       "      <th>12399</th>\n",
       "      <td>TOTAL</td>\n",
       "      <td>NaN</td>\n",
       "      <td>NaN</td>\n",
       "      <td>NaN</td>\n",
       "      <td>NaN</td>\n",
       "      <td>NaN</td>\n",
       "      <td>NaN</td>\n",
       "      <td>NaN</td>\n",
       "      <td>NaN</td>\n",
       "      <td>NaN</td>\n",
       "      <td>NaN</td>\n",
       "      <td>NaN</td>\n",
       "      <td>NaN</td>\n",
       "      <td>NaN</td>\n",
       "      <td>NaN</td>\n",
       "      <td>NaN</td>\n",
       "      <td>NaN</td>\n",
       "      <td>NaN</td>\n",
       "      <td>NaN</td>\n",
       "      <td>NaN</td>\n",
       "      <td>NaN</td>\n",
       "      <td>NaN</td>\n",
       "    </tr>\n",
       "  </tbody>\n",
       "</table>\n",
       "</div>"
      ],
      "text/plain": [
       "       FECHA DEPARTAMENTO MUNICIPIO  DIA HORA BARRIO ZONA CLASE DE SITIO  \\\n",
       "12399  TOTAL          NaN       NaN  NaN  NaN    NaN  NaN            NaN   \n",
       "\n",
       "      ARMA O MEDIO MOVIL VICTIMA MOVIL AGRESOR  EDAD GENERO ESTADO CIVIL  \\\n",
       "12399          NaN           NaN           NaN   NaN    NaN          NaN   \n",
       "\n",
       "      CLASE EMPLEADO PROFESION ESCOLARIDAD PAIS NACE  CODIGO DANE  \\\n",
       "12399            NaN       NaN         NaN       NaN          NaN   \n",
       "\n",
       "       AÑO DE NACIMIENTO CÉDULA CORREO  \n",
       "12399                NaN    NaN    NaN  "
      ]
     },
     "execution_count": 13,
     "metadata": {},
     "output_type": "execute_result"
    }
   ],
   "source": [
    "# Using the function for validation\n",
    "homicides_df.loc[homicides_df[\"FECHA\"].apply(error_in_format)]\n",
    "\n",
    "# THE LAST ROW IS CAUSING THE ERROR"
   ]
  },
  {
   "cell_type": "code",
   "execution_count": 14,
   "metadata": {},
   "outputs": [],
   "source": [
    "# Deleting a row by its index\n",
    "homicides_df.drop(12399, inplace = True)"
   ]
  },
  {
   "cell_type": "code",
   "execution_count": 15,
   "metadata": {},
   "outputs": [],
   "source": [
    "# Trying to parse the datetime string again\n",
    "homicides_df[\"FECHA\"] = homicides_df[\"FECHA\"].apply(dateparse)"
   ]
  },
  {
   "cell_type": "code",
   "execution_count": 16,
   "metadata": {},
   "outputs": [
    {
     "data": {
      "text/plain": [
       "12    12399\n",
       "Name: FECHA, dtype: int64"
      ]
     },
     "execution_count": 16,
     "metadata": {},
     "output_type": "execute_result"
    }
   ],
   "source": [
    "# Counting homicides by hour\n",
    "homicides_df[\"FECHA\"].dt.hour.value_counts()\n",
    "\n",
    "# All datetime hour parts are the same"
   ]
  },
  {
   "cell_type": "code",
   "execution_count": 17,
   "metadata": {},
   "outputs": [],
   "source": [
    "# The homicide hour is available in a different column!\n",
    "# Merging both columns\n",
    "homicides_df[\"FECHA\"] = homicides_df[\"FECHA\"].astype(str).apply(lambda x: x[:11]) + homicides_df[\"HORA\"]"
   ]
  },
  {
   "cell_type": "code",
   "execution_count": 18,
   "metadata": {},
   "outputs": [],
   "source": [
    "del homicides_df[\"HORA\"]"
   ]
  },
  {
   "cell_type": "code",
   "execution_count": 19,
   "metadata": {},
   "outputs": [
    {
     "data": {
      "text/plain": [
       "0     2021-01-01 6:00\n",
       "1     2021-01-01 9:00\n",
       "2    2021-01-01 19:00\n",
       "3    2021-01-01 11:20\n",
       "4    2021-01-01 15:00\n",
       "Name: FECHA, dtype: object"
      ]
     },
     "execution_count": 19,
     "metadata": {},
     "output_type": "execute_result"
    }
   ],
   "source": [
    "homicides_df[\"FECHA\"].head()"
   ]
  },
  {
   "cell_type": "code",
   "execution_count": 20,
   "metadata": {},
   "outputs": [],
   "source": [
    "# Making a new expression for datetime parsing\n",
    "dateparse = lambda x: datetime.strptime(x, \"%Y-%m-%d %H:%M\")"
   ]
  },
  {
   "cell_type": "code",
   "execution_count": 21,
   "metadata": {},
   "outputs": [],
   "source": [
    "# Applying the expression\n",
    "homicides_df[\"FECHA\"] = homicides_df[\"FECHA\"].apply(dateparse)"
   ]
  },
  {
   "cell_type": "code",
   "execution_count": 22,
   "metadata": {},
   "outputs": [
    {
     "data": {
      "text/plain": [
       "FECHA                datetime64[ns]\n",
       "DEPARTAMENTO                 object\n",
       "MUNICIPIO                    object\n",
       "DIA                          object\n",
       "BARRIO                       object\n",
       "ZONA                         object\n",
       "CLASE DE SITIO               object\n",
       "ARMA O MEDIO                 object\n",
       "MOVIL VICTIMA                object\n",
       "MOVIL AGRESOR                object\n",
       "EDAD                        float64\n",
       "GENERO                       object\n",
       "ESTADO CIVIL                 object\n",
       "CLASE EMPLEADO               object\n",
       "PROFESION                    object\n",
       "ESCOLARIDAD                  object\n",
       "PAIS NACE                    object\n",
       "CODIGO DANE                 float64\n",
       "AÑO DE NACIMIENTO           float64\n",
       "CÉDULA                       object\n",
       "CORREO                       object\n",
       "dtype: object"
      ]
     },
     "execution_count": 22,
     "metadata": {},
     "output_type": "execute_result"
    }
   ],
   "source": [
    "homicides_df.dtypes"
   ]
  },
  {
   "cell_type": "code",
   "execution_count": 23,
   "metadata": {},
   "outputs": [
    {
     "data": {
      "text/html": [
       "<div>\n",
       "<style scoped>\n",
       "    .dataframe tbody tr th:only-of-type {\n",
       "        vertical-align: middle;\n",
       "    }\n",
       "\n",
       "    .dataframe tbody tr th {\n",
       "        vertical-align: top;\n",
       "    }\n",
       "\n",
       "    .dataframe thead th {\n",
       "        text-align: right;\n",
       "    }\n",
       "</style>\n",
       "<table border=\"1\" class=\"dataframe\">\n",
       "  <thead>\n",
       "    <tr style=\"text-align: right;\">\n",
       "      <th></th>\n",
       "      <th>FECHA</th>\n",
       "      <th>DEPARTAMENTO</th>\n",
       "      <th>MUNICIPIO</th>\n",
       "      <th>DIA</th>\n",
       "      <th>BARRIO</th>\n",
       "      <th>ZONA</th>\n",
       "      <th>CLASE DE SITIO</th>\n",
       "      <th>ARMA O MEDIO</th>\n",
       "      <th>MOVIL VICTIMA</th>\n",
       "      <th>MOVIL AGRESOR</th>\n",
       "      <th>EDAD</th>\n",
       "      <th>GENERO</th>\n",
       "      <th>ESTADO CIVIL</th>\n",
       "      <th>CLASE EMPLEADO</th>\n",
       "      <th>PROFESION</th>\n",
       "      <th>ESCOLARIDAD</th>\n",
       "      <th>PAIS NACE</th>\n",
       "      <th>CODIGO DANE</th>\n",
       "      <th>AÑO DE NACIMIENTO</th>\n",
       "      <th>CÉDULA</th>\n",
       "      <th>CORREO</th>\n",
       "    </tr>\n",
       "  </thead>\n",
       "  <tbody>\n",
       "    <tr>\n",
       "      <th>0</th>\n",
       "      <td>2021-01-01 06:00:00</td>\n",
       "      <td>ANTIOQUIA</td>\n",
       "      <td>AMAGÁ</td>\n",
       "      <td>Jueves</td>\n",
       "      <td>EL VOLCAN</td>\n",
       "      <td>RURAL</td>\n",
       "      <td>TIENDA</td>\n",
       "      <td>ARMA BLANCA</td>\n",
       "      <td>A PIE</td>\n",
       "      <td>A PIE</td>\n",
       "      <td>44.0</td>\n",
       "      <td>MASCULINO</td>\n",
       "      <td>CASADO</td>\n",
       "      <td>INDEPENDIENTE</td>\n",
       "      <td>NO REPORTADO</td>\n",
       "      <td>PRIMARIA</td>\n",
       "      <td>COLOMBIA</td>\n",
       "      <td>5030000.0</td>\n",
       "      <td>1971.0</td>\n",
       "      <td>42-908</td>\n",
       "      <td>agbnqg2122@unidatos.edu.co</td>\n",
       "    </tr>\n",
       "    <tr>\n",
       "      <th>1</th>\n",
       "      <td>2021-01-01 09:00:00</td>\n",
       "      <td>ANTIOQUIA</td>\n",
       "      <td>BARBOSA</td>\n",
       "      <td>Jueves</td>\n",
       "      <td>VDA. MATASANOS</td>\n",
       "      <td>RURAL</td>\n",
       "      <td>VIAS PUBLICAS</td>\n",
       "      <td>ARMA BLANCA</td>\n",
       "      <td>A PIE</td>\n",
       "      <td>A PIE</td>\n",
       "      <td>30.0</td>\n",
       "      <td>MASCULINO</td>\n",
       "      <td>SOLTERO</td>\n",
       "      <td>DESEMPLEADO</td>\n",
       "      <td>NO REPORTADO</td>\n",
       "      <td>SECUNDARIA</td>\n",
       "      <td>NO REPORTADO</td>\n",
       "      <td>5079000.0</td>\n",
       "      <td>1985.0</td>\n",
       "      <td>15-183</td>\n",
       "      <td>rbkeui3584@gmail.com</td>\n",
       "    </tr>\n",
       "    <tr>\n",
       "      <th>2</th>\n",
       "      <td>2021-01-01 19:00:00</td>\n",
       "      <td>ANTIOQUIA</td>\n",
       "      <td>EL BAGRE</td>\n",
       "      <td>Jueves</td>\n",
       "      <td>PUERTO CLAVER</td>\n",
       "      <td>RURAL</td>\n",
       "      <td>FINCAS Y SIMILARES</td>\n",
       "      <td>ARMA BLANCA</td>\n",
       "      <td>A PIE</td>\n",
       "      <td>A PIE</td>\n",
       "      <td>33.0</td>\n",
       "      <td>MASCULINO</td>\n",
       "      <td>UNION LIBRE</td>\n",
       "      <td>AGRICULTOR</td>\n",
       "      <td>NO REPORTADO</td>\n",
       "      <td>PRIMARIA</td>\n",
       "      <td>COLOMBIA</td>\n",
       "      <td>5250000.0</td>\n",
       "      <td>1982.0</td>\n",
       "      <td>84-786</td>\n",
       "      <td>aorkhf9155@unidatos.edu.co</td>\n",
       "    </tr>\n",
       "    <tr>\n",
       "      <th>3</th>\n",
       "      <td>2021-01-01 11:20:00</td>\n",
       "      <td>ANTIOQUIA</td>\n",
       "      <td>JARDÍN</td>\n",
       "      <td>Jueves</td>\n",
       "      <td>CRISTIANIA</td>\n",
       "      <td>RURAL</td>\n",
       "      <td>FINCAS Y SIMILARES</td>\n",
       "      <td>ARMA BLANCA</td>\n",
       "      <td>A PIE</td>\n",
       "      <td>A PIE</td>\n",
       "      <td>40.0</td>\n",
       "      <td>MASCULINO</td>\n",
       "      <td>CASADO</td>\n",
       "      <td>AGRICULTOR</td>\n",
       "      <td>NO REPORTADO</td>\n",
       "      <td>PRIMARIA</td>\n",
       "      <td>COLOMBIA</td>\n",
       "      <td>5364000.0</td>\n",
       "      <td>1975.0</td>\n",
       "      <td>31-289</td>\n",
       "      <td>dhtemr6623@unidatos.edu.co</td>\n",
       "    </tr>\n",
       "    <tr>\n",
       "      <th>4</th>\n",
       "      <td>2021-01-01 15:00:00</td>\n",
       "      <td>ANTIOQUIA</td>\n",
       "      <td>MEDELLÍN (CT)</td>\n",
       "      <td>Juees</td>\n",
       "      <td>PICACHITO CNO REPORTADO6</td>\n",
       "      <td>URBANA</td>\n",
       "      <td>FRENTE A RESIDENCIAS - VIA PUBLICA</td>\n",
       "      <td>CONTUNDENTES</td>\n",
       "      <td>A PIE</td>\n",
       "      <td>A PIE</td>\n",
       "      <td>66.0</td>\n",
       "      <td>MASCULINO</td>\n",
       "      <td>UNION LIBRE</td>\n",
       "      <td>DESEMPLEADO</td>\n",
       "      <td>NO REPORTADO</td>\n",
       "      <td>PRIMARIA</td>\n",
       "      <td>COLOMBIA</td>\n",
       "      <td>5001000.0</td>\n",
       "      <td>1949.0</td>\n",
       "      <td>66-363</td>\n",
       "      <td>artatj9268@unidatos.edu.co</td>\n",
       "    </tr>\n",
       "  </tbody>\n",
       "</table>\n",
       "</div>"
      ],
      "text/plain": [
       "                FECHA DEPARTAMENTO      MUNICIPIO     DIA  \\\n",
       "0 2021-01-01 06:00:00    ANTIOQUIA          AMAGÁ  Jueves   \n",
       "1 2021-01-01 09:00:00    ANTIOQUIA        BARBOSA  Jueves   \n",
       "2 2021-01-01 19:00:00    ANTIOQUIA       EL BAGRE  Jueves   \n",
       "3 2021-01-01 11:20:00    ANTIOQUIA         JARDÍN  Jueves   \n",
       "4 2021-01-01 15:00:00    ANTIOQUIA  MEDELLÍN (CT)   Juees   \n",
       "\n",
       "                     BARRIO    ZONA                      CLASE DE SITIO  \\\n",
       "0                 EL VOLCAN   RURAL                              TIENDA   \n",
       "1            VDA. MATASANOS   RURAL                       VIAS PUBLICAS   \n",
       "2             PUERTO CLAVER   RURAL                  FINCAS Y SIMILARES   \n",
       "3                CRISTIANIA   RURAL                  FINCAS Y SIMILARES   \n",
       "4  PICACHITO CNO REPORTADO6  URBANA  FRENTE A RESIDENCIAS - VIA PUBLICA   \n",
       "\n",
       "   ARMA O MEDIO MOVIL VICTIMA MOVIL AGRESOR  EDAD     GENERO ESTADO CIVIL  \\\n",
       "0   ARMA BLANCA         A PIE         A PIE  44.0  MASCULINO       CASADO   \n",
       "1   ARMA BLANCA         A PIE         A PIE  30.0  MASCULINO      SOLTERO   \n",
       "2   ARMA BLANCA         A PIE         A PIE  33.0  MASCULINO  UNION LIBRE   \n",
       "3   ARMA BLANCA         A PIE         A PIE  40.0  MASCULINO       CASADO   \n",
       "4  CONTUNDENTES         A PIE         A PIE  66.0  MASCULINO  UNION LIBRE   \n",
       "\n",
       "  CLASE EMPLEADO     PROFESION ESCOLARIDAD     PAIS NACE  CODIGO DANE  \\\n",
       "0  INDEPENDIENTE  NO REPORTADO    PRIMARIA      COLOMBIA    5030000.0   \n",
       "1    DESEMPLEADO  NO REPORTADO  SECUNDARIA  NO REPORTADO    5079000.0   \n",
       "2     AGRICULTOR  NO REPORTADO    PRIMARIA      COLOMBIA    5250000.0   \n",
       "3     AGRICULTOR  NO REPORTADO    PRIMARIA      COLOMBIA    5364000.0   \n",
       "4    DESEMPLEADO  NO REPORTADO    PRIMARIA      COLOMBIA    5001000.0   \n",
       "\n",
       "   AÑO DE NACIMIENTO  CÉDULA                      CORREO  \n",
       "0             1971.0  42-908  agbnqg2122@unidatos.edu.co  \n",
       "1             1985.0  15-183        rbkeui3584@gmail.com  \n",
       "2             1982.0  84-786  aorkhf9155@unidatos.edu.co  \n",
       "3             1975.0  31-289  dhtemr6623@unidatos.edu.co  \n",
       "4             1949.0  66-363  artatj9268@unidatos.edu.co  "
      ]
     },
     "execution_count": 23,
     "metadata": {},
     "output_type": "execute_result"
    }
   ],
   "source": [
    "homicides_df.head()"
   ]
  },
  {
   "cell_type": "code",
   "execution_count": 24,
   "metadata": {},
   "outputs": [],
   "source": [
    "# Creating a dictionary representing the valid departments for Colombia\n",
    "departments_list = ['ANTIOQUIA', 'ATLÁNTICO', 'BOLÍVAR', 'BOYACÁ', 'CALDAS', 'CAQUETÁ',\n",
    "       'CASANARE', 'CAUCA', 'CESAR', 'CHOCÓ', 'CÓRDOBA', 'META',\n",
    "       'CUNDINAMARCA', 'HUILA', 'MAGDALENA', 'NARIÑO', 'PUTUMAYO',\n",
    "       'RISARALDA', 'SANTANDER', 'SUCRE', 'TOLIMA', 'VALLE',\n",
    "       'NORTE DE SANTANDER', 'GUAJIRA', 'QUINDÍO', 'SAN ANDRÉS Y PROVIDENCIA', 'ARAUCA',\n",
    "       'GUAINÍA', 'VICHADA', 'VAUPÉS', 'GUAVIARE', 'AMAZONAS']"
   ]
  },
  {
   "cell_type": "code",
   "execution_count": 25,
   "metadata": {},
   "outputs": [
    {
     "data": {
      "text/plain": [
       "array(['SAN ANDRÉS', 'N. DE SANTANDER'], dtype=object)"
      ]
     },
     "execution_count": 25,
     "metadata": {},
     "output_type": "execute_result"
    }
   ],
   "source": [
    "# Finding values not matching with the dictionary\n",
    "homicides_df.loc[~homicides_df[\"DEPARTAMENTO\"].isin(departments_list), \"DEPARTAMENTO\"].unique()"
   ]
  },
  {
   "cell_type": "markdown",
   "metadata": {},
   "source": [
    "<span style=\"color:red\">TODO: Replace the values identified as error to a valid value from the dictionary</span>\n",
    "\n",
    "<span style=\"color:red\">Hint: You can use the replace() pandas function</span>"
   ]
  },
  {
   "cell_type": "code",
   "execution_count": 27,
   "metadata": {},
   "outputs": [],
   "source": [
    "# Vuelvo numérica la variable categórica sex\n",
    "homicides_df['DEPARTAMENTO'] = homicides_df['DEPARTAMENTO'].replace(['SAN ANDRÉS', 'N. DE SANTANDER'],['SAN ANDRÉS Y PROVIDENCIA', 'NORTE DE SANTANDER'])"
   ]
  },
  {
   "cell_type": "code",
   "execution_count": 28,
   "metadata": {},
   "outputs": [
    {
     "data": {
      "text/plain": [
       "array([], dtype=object)"
      ]
     },
     "execution_count": 28,
     "metadata": {},
     "output_type": "execute_result"
    }
   ],
   "source": [
    "# Finding values not matching with the dictionary\n",
    "homicides_df.loc[~homicides_df[\"DEPARTAMENTO\"].isin(departments_list), \"DEPARTAMENTO\"].unique()"
   ]
  },
  {
   "cell_type": "code",
   "execution_count": 29,
   "metadata": {},
   "outputs": [],
   "source": [
    "# Detecting duplicates by \"CÉDULA\" column\n",
    "duplicates_by_cedula = homicides_df.loc[homicides_df[\"CÉDULA\"].duplicated(keep = False)]"
   ]
  },
  {
   "cell_type": "code",
   "execution_count": 30,
   "metadata": {},
   "outputs": [
    {
     "data": {
      "text/plain": [
       "(1627, 21)"
      ]
     },
     "execution_count": 30,
     "metadata": {},
     "output_type": "execute_result"
    }
   ],
   "source": [
    "duplicates_by_cedula.shape"
   ]
  },
  {
   "cell_type": "code",
   "execution_count": 31,
   "metadata": {},
   "outputs": [
    {
     "data": {
      "text/html": [
       "<div>\n",
       "<style scoped>\n",
       "    .dataframe tbody tr th:only-of-type {\n",
       "        vertical-align: middle;\n",
       "    }\n",
       "\n",
       "    .dataframe tbody tr th {\n",
       "        vertical-align: top;\n",
       "    }\n",
       "\n",
       "    .dataframe thead th {\n",
       "        text-align: right;\n",
       "    }\n",
       "</style>\n",
       "<table border=\"1\" class=\"dataframe\">\n",
       "  <thead>\n",
       "    <tr style=\"text-align: right;\">\n",
       "      <th></th>\n",
       "      <th>FECHA</th>\n",
       "      <th>DEPARTAMENTO</th>\n",
       "      <th>MUNICIPIO</th>\n",
       "      <th>DIA</th>\n",
       "      <th>BARRIO</th>\n",
       "      <th>ZONA</th>\n",
       "      <th>CLASE DE SITIO</th>\n",
       "      <th>ARMA O MEDIO</th>\n",
       "      <th>MOVIL VICTIMA</th>\n",
       "      <th>MOVIL AGRESOR</th>\n",
       "      <th>EDAD</th>\n",
       "      <th>GENERO</th>\n",
       "      <th>ESTADO CIVIL</th>\n",
       "      <th>CLASE EMPLEADO</th>\n",
       "      <th>PROFESION</th>\n",
       "      <th>ESCOLARIDAD</th>\n",
       "      <th>PAIS NACE</th>\n",
       "      <th>CODIGO DANE</th>\n",
       "      <th>AÑO DE NACIMIENTO</th>\n",
       "      <th>CÉDULA</th>\n",
       "      <th>CORREO</th>\n",
       "    </tr>\n",
       "  </thead>\n",
       "  <tbody>\n",
       "    <tr>\n",
       "      <th>4041</th>\n",
       "      <td>2021-05-03 23:30:00</td>\n",
       "      <td>CAUCA</td>\n",
       "      <td>EL TAMBO</td>\n",
       "      <td>Domingo</td>\n",
       "      <td>LA VICTORIA</td>\n",
       "      <td>RURAL</td>\n",
       "      <td>BARES, CANTINAS Y SIMILARES</td>\n",
       "      <td>ARMA DE FUEGO</td>\n",
       "      <td>A PIE</td>\n",
       "      <td>A PIE</td>\n",
       "      <td>45.0</td>\n",
       "      <td>MASCULINO</td>\n",
       "      <td>UNION LIBRE</td>\n",
       "      <td>AGRICULTOR</td>\n",
       "      <td>NO REPORTADO</td>\n",
       "      <td>PRIMARIA</td>\n",
       "      <td>COLOMBIA</td>\n",
       "      <td>19256000.0</td>\n",
       "      <td>1970.0</td>\n",
       "      <td>10-048</td>\n",
       "      <td>aitufn1227@gmail.com</td>\n",
       "    </tr>\n",
       "    <tr>\n",
       "      <th>3810</th>\n",
       "      <td>2021-04-26 03:00:00</td>\n",
       "      <td>ANTIOQUIA</td>\n",
       "      <td>SAN JERÓNIMO</td>\n",
       "      <td>Domingo</td>\n",
       "      <td>LA PLAYA</td>\n",
       "      <td>URBANA</td>\n",
       "      <td>HOTELES, RESIDENCIAS, Y SIMILARES.</td>\n",
       "      <td>CUERDA/SOGA/CADENA</td>\n",
       "      <td>A PIE</td>\n",
       "      <td>A PIE</td>\n",
       "      <td>25.0</td>\n",
       "      <td>MASCULINO</td>\n",
       "      <td>SOLTERO</td>\n",
       "      <td>INDEPENDIENTE</td>\n",
       "      <td>NO REPORTADO</td>\n",
       "      <td>SECUNDARIA</td>\n",
       "      <td>COLOMBIA</td>\n",
       "      <td>5656000.0</td>\n",
       "      <td>1990.0</td>\n",
       "      <td>10-048</td>\n",
       "      <td>ibbcpu2509@unidatos.edu.co</td>\n",
       "    </tr>\n",
       "    <tr>\n",
       "      <th>693</th>\n",
       "      <td>2021-01-19 05:30:00</td>\n",
       "      <td>ANTIOQUIA</td>\n",
       "      <td>SALGAR</td>\n",
       "      <td>Lunes</td>\n",
       "      <td>LA HABANA</td>\n",
       "      <td>URBANA</td>\n",
       "      <td>VIAS PUBLICAS</td>\n",
       "      <td>ARMA DE FUEGO</td>\n",
       "      <td>A PIE</td>\n",
       "      <td>A PIE</td>\n",
       "      <td>58.0</td>\n",
       "      <td>MASCULINO</td>\n",
       "      <td>SOLTERO</td>\n",
       "      <td>AGRICULTOR</td>\n",
       "      <td>NO REPORTADO</td>\n",
       "      <td>PRIMARIA</td>\n",
       "      <td>COLOMBIA</td>\n",
       "      <td>5642000.0</td>\n",
       "      <td>57.0</td>\n",
       "      <td>10-079</td>\n",
       "      <td>unhoqj1172@unidatos.edu.co</td>\n",
       "    </tr>\n",
       "    <tr>\n",
       "      <th>10796</th>\n",
       "      <td>2021-11-20 03:00:00</td>\n",
       "      <td>VALLE</td>\n",
       "      <td>CALI (CT)</td>\n",
       "      <td>Viernes</td>\n",
       "      <td>POTRERO GRANDE E21</td>\n",
       "      <td>URBANA</td>\n",
       "      <td>VIAS PUBLICAS</td>\n",
       "      <td>ARMA DE FUEGO</td>\n",
       "      <td>A PIE</td>\n",
       "      <td>A PIE</td>\n",
       "      <td>21.0</td>\n",
       "      <td>MASCULINO</td>\n",
       "      <td>SOLTERO</td>\n",
       "      <td>EMPLEADO PARTICULAR</td>\n",
       "      <td>NO REPORTADO</td>\n",
       "      <td>SECUNDARIA</td>\n",
       "      <td>COLOMBIA</td>\n",
       "      <td>76001000.0</td>\n",
       "      <td>1994.0</td>\n",
       "      <td>10-079</td>\n",
       "      <td>iknnoj8430@unidatos.edu.co</td>\n",
       "    </tr>\n",
       "    <tr>\n",
       "      <th>2386</th>\n",
       "      <td>2021-03-14 02:00:00</td>\n",
       "      <td>META</td>\n",
       "      <td>FUENTE DE ORO</td>\n",
       "      <td>Sábado</td>\n",
       "      <td>VEREDA PUERTO NUEVO</td>\n",
       "      <td>RURAL</td>\n",
       "      <td>BARES, CANTINAS Y SIMILARES</td>\n",
       "      <td>ARMA BLANCA</td>\n",
       "      <td>A PIE</td>\n",
       "      <td>A PIE</td>\n",
       "      <td>42.0</td>\n",
       "      <td>MASCULINO</td>\n",
       "      <td>SOLTERO</td>\n",
       "      <td>INDEPENDIENTE</td>\n",
       "      <td>NO REPORTADO</td>\n",
       "      <td>PRIMARIA</td>\n",
       "      <td>COLOMBIA</td>\n",
       "      <td>50287000.0</td>\n",
       "      <td>1973.0</td>\n",
       "      <td>10-255</td>\n",
       "      <td>afompq7113@unidatos.edu.co</td>\n",
       "    </tr>\n",
       "    <tr>\n",
       "      <th>138</th>\n",
       "      <td>2021-01-02 06:20:00</td>\n",
       "      <td>CAUCA</td>\n",
       "      <td>SOTARA</td>\n",
       "      <td>Viernes</td>\n",
       "      <td>CENTRO</td>\n",
       "      <td>RURAL</td>\n",
       "      <td>VIAS PUBLICAS</td>\n",
       "      <td>ARMA BLANCA</td>\n",
       "      <td>A PIE</td>\n",
       "      <td>A PIE</td>\n",
       "      <td>22.0</td>\n",
       "      <td>MASCULINO</td>\n",
       "      <td>SOLTERO</td>\n",
       "      <td>EMPLEADO EJERCITO</td>\n",
       "      <td>NO REPORTADO</td>\n",
       "      <td>SECUNDARIA</td>\n",
       "      <td>COLOMBIA</td>\n",
       "      <td>19760000.0</td>\n",
       "      <td>1993.0</td>\n",
       "      <td>10-255</td>\n",
       "      <td>cobgqs8819@unidatos.edu.co</td>\n",
       "    </tr>\n",
       "  </tbody>\n",
       "</table>\n",
       "</div>"
      ],
      "text/plain": [
       "                    FECHA DEPARTAMENTO      MUNICIPIO      DIA  \\\n",
       "4041  2021-05-03 23:30:00        CAUCA       EL TAMBO  Domingo   \n",
       "3810  2021-04-26 03:00:00    ANTIOQUIA   SAN JERÓNIMO  Domingo   \n",
       "693   2021-01-19 05:30:00    ANTIOQUIA         SALGAR    Lunes   \n",
       "10796 2021-11-20 03:00:00        VALLE      CALI (CT)  Viernes   \n",
       "2386  2021-03-14 02:00:00         META  FUENTE DE ORO   Sábado   \n",
       "138   2021-01-02 06:20:00        CAUCA         SOTARA  Viernes   \n",
       "\n",
       "                    BARRIO    ZONA                      CLASE DE SITIO  \\\n",
       "4041           LA VICTORIA   RURAL         BARES, CANTINAS Y SIMILARES   \n",
       "3810              LA PLAYA  URBANA  HOTELES, RESIDENCIAS, Y SIMILARES.   \n",
       "693              LA HABANA  URBANA                       VIAS PUBLICAS   \n",
       "10796   POTRERO GRANDE E21  URBANA                       VIAS PUBLICAS   \n",
       "2386   VEREDA PUERTO NUEVO   RURAL         BARES, CANTINAS Y SIMILARES   \n",
       "138                 CENTRO   RURAL                       VIAS PUBLICAS   \n",
       "\n",
       "             ARMA O MEDIO MOVIL VICTIMA MOVIL AGRESOR  EDAD     GENERO  \\\n",
       "4041        ARMA DE FUEGO         A PIE         A PIE  45.0  MASCULINO   \n",
       "3810   CUERDA/SOGA/CADENA         A PIE         A PIE  25.0  MASCULINO   \n",
       "693         ARMA DE FUEGO         A PIE         A PIE  58.0  MASCULINO   \n",
       "10796       ARMA DE FUEGO         A PIE         A PIE  21.0  MASCULINO   \n",
       "2386          ARMA BLANCA         A PIE         A PIE  42.0  MASCULINO   \n",
       "138           ARMA BLANCA         A PIE         A PIE  22.0  MASCULINO   \n",
       "\n",
       "      ESTADO CIVIL       CLASE EMPLEADO     PROFESION ESCOLARIDAD PAIS NACE  \\\n",
       "4041   UNION LIBRE           AGRICULTOR  NO REPORTADO    PRIMARIA  COLOMBIA   \n",
       "3810       SOLTERO        INDEPENDIENTE  NO REPORTADO  SECUNDARIA  COLOMBIA   \n",
       "693        SOLTERO           AGRICULTOR  NO REPORTADO    PRIMARIA  COLOMBIA   \n",
       "10796      SOLTERO  EMPLEADO PARTICULAR  NO REPORTADO  SECUNDARIA  COLOMBIA   \n",
       "2386       SOLTERO        INDEPENDIENTE  NO REPORTADO    PRIMARIA  COLOMBIA   \n",
       "138        SOLTERO    EMPLEADO EJERCITO  NO REPORTADO  SECUNDARIA  COLOMBIA   \n",
       "\n",
       "       CODIGO DANE  AÑO DE NACIMIENTO  CÉDULA                      CORREO  \n",
       "4041    19256000.0             1970.0  10-048        aitufn1227@gmail.com  \n",
       "3810     5656000.0             1990.0  10-048  ibbcpu2509@unidatos.edu.co  \n",
       "693      5642000.0               57.0  10-079  unhoqj1172@unidatos.edu.co  \n",
       "10796   76001000.0             1994.0  10-079  iknnoj8430@unidatos.edu.co  \n",
       "2386    50287000.0             1973.0  10-255  afompq7113@unidatos.edu.co  \n",
       "138     19760000.0             1993.0  10-255  cobgqs8819@unidatos.edu.co  "
      ]
     },
     "execution_count": 31,
     "metadata": {},
     "output_type": "execute_result"
    }
   ],
   "source": [
    "# Showing some examples\n",
    "duplicates_by_cedula.sort_values(\"CÉDULA\", ascending = True).head(6)"
   ]
  },
  {
   "cell_type": "markdown",
   "metadata": {},
   "source": [
    "<span style=\"color:red\">TODO: Delete records with \"CÉDULA\" duplicated</span>\n",
    "\n",
    "<span style=\"color:red\">Hint: You can use drop_duplicates() pandas function.</span>"
   ]
  },
  {
   "cell_type": "code",
   "execution_count": null,
   "metadata": {},
   "outputs": [],
   "source": [
    "df2 = df.drop_duplicates(subset=[\"Courses\", \"Fee\"], keep=False)"
   ]
  },
  {
   "cell_type": "code",
   "execution_count": null,
   "metadata": {},
   "outputs": [],
   "source": [
    "# Using regular expressions for validating if \"CÉDULA\" values match the pattern XX-XXX\n",
    "cedula_malformed = homicides_df.loc[homicides_df[\"CÉDULA\"].apply(lambda x: (re.match(\"\\d{2}-\\d{3}\", x) is None))]"
   ]
  },
  {
   "cell_type": "code",
   "execution_count": null,
   "metadata": {},
   "outputs": [],
   "source": [
    "cedula_malformed.shape"
   ]
  },
  {
   "cell_type": "code",
   "execution_count": null,
   "metadata": {},
   "outputs": [],
   "source": [
    "cedula_malformed.head(6)"
   ]
  },
  {
   "cell_type": "markdown",
   "metadata": {},
   "source": [
    "<span style=\"color:red\">TODO: Fix the malformed \"CÉDULA\" values.</span>"
   ]
  },
  {
   "cell_type": "code",
   "execution_count": null,
   "metadata": {},
   "outputs": [],
   "source": []
  },
  {
   "cell_type": "markdown",
   "metadata": {},
   "source": [
    "<span style=\"color:red\">TODO: Make something similar to check and fix the \"CORREO\" column (PATTERN: 4 digits before the @, only .edu.co and .com domains are allowed)</span>"
   ]
  },
  {
   "cell_type": "code",
   "execution_count": null,
   "metadata": {},
   "outputs": [],
   "source": []
  },
  {
   "cell_type": "code",
   "execution_count": null,
   "metadata": {},
   "outputs": [],
   "source": [
    "# Showing different values for \"DIA\" column\n",
    "homicides_df[\"DIA\"].unique()"
   ]
  },
  {
   "cell_type": "code",
   "execution_count": null,
   "metadata": {},
   "outputs": [],
   "source": [
    "# Calculating the distance between two words using the Levenshtein method\n",
    "pylev.levenshtein('sábado', 'sabaod')"
   ]
  },
  {
   "cell_type": "code",
   "execution_count": null,
   "metadata": {},
   "outputs": [],
   "source": [
    "pylev.levenshtein('sábado', 'viernes')"
   ]
  },
  {
   "cell_type": "markdown",
   "metadata": {},
   "source": [
    "<span style=\"color:red\">TODO: Create a function to fix the digitation errors for \"DIA\" column.</span>"
   ]
  },
  {
   "cell_type": "code",
   "execution_count": null,
   "metadata": {},
   "outputs": [],
   "source": []
  },
  {
   "cell_type": "code",
   "execution_count": null,
   "metadata": {},
   "outputs": [],
   "source": [
    "homicides_df[\"DIA\"].unique()"
   ]
  },
  {
   "cell_type": "code",
   "execution_count": null,
   "metadata": {},
   "outputs": [],
   "source": [
    "homicides_df[[\"AÑO DE NACIMIENTO\", \"EDAD\"]].head(10)"
   ]
  },
  {
   "cell_type": "markdown",
   "metadata": {},
   "source": [
    "<span style=\"color:red\">TODO: Fix the \"AÑO DE NACIMIENTO\" column using the column \"EDAD\".</span>"
   ]
  },
  {
   "cell_type": "code",
   "execution_count": null,
   "metadata": {},
   "outputs": [],
   "source": []
  }
 ],
 "metadata": {
  "kernelspec": {
   "display_name": "Python 3 (ipykernel)",
   "language": "python",
   "name": "python3"
  },
  "language_info": {
   "codemirror_mode": {
    "name": "ipython",
    "version": 3
   },
   "file_extension": ".py",
   "mimetype": "text/x-python",
   "name": "python",
   "nbconvert_exporter": "python",
   "pygments_lexer": "ipython3",
   "version": "3.9.12"
  }
 },
 "nbformat": 4,
 "nbformat_minor": 4
}
